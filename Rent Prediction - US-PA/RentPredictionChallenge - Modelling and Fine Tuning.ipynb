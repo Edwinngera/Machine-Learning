{
 "cells": [
  {
   "cell_type": "code",
   "execution_count": 1,
   "metadata": {},
   "outputs": [
    {
     "name": "stderr",
     "output_type": "stream",
     "text": [
      "C:\\Users\\padmaraj.bhat\\AppData\\Local\\Continuum\\anaconda3\\lib\\site-packages\\sklearn\\ensemble\\weight_boosting.py:29: DeprecationWarning: numpy.core.umath_tests is an internal NumPy module and should not be imported. It will be removed in a future NumPy release.\n",
      "  from numpy.core.umath_tests import inner1d\n"
     ]
    }
   ],
   "source": [
    "'''#Tools for DataSet manupulation\n",
    "import pandas as pd\n",
    "from collections import Counter\n",
    "import numpy as np\n",
    "import math\n",
    "from scipy import stats\n",
    "import random\n",
    "\n",
    "#Pre Processing using sklearn\n",
    "from sklearn import preprocessing\n",
    "\n",
    "#Validation using sklearn\n",
    "from sklearn.model_selection import ShuffleSplit, cross_val_score\n",
    "\n",
    "#Regression Models\n",
    "from sklearn.tree import DecisionTreeRegressor\n",
    "from sklearn.linear_model import SGDRegressor, LassoCV, ElasticNetCV, RidgeCV\n",
    "from sklearn.svm import SVR\n",
    "from sklearn.ensemble import AdaBoostRegressor, GradientBoostingRegressor\n",
    "from xgboost import XGBRegressor\n",
    "\n",
    "#plots\n",
    "import matplotlib.pyplot as plt'''\n",
    "\n",
    "#handy functions from Data Wrangling activities\n",
    "#import RentPredictionChallenge as wrangle\n",
    "from RentPredictionChallenge import *"
   ]
  },
  {
   "cell_type": "code",
   "execution_count": 2,
   "metadata": {},
   "outputs": [
    {
     "name": "stdout",
     "output_type": "stream",
     "text": [
      "Shape of the data set before transforming :  (12132, 40)\n",
      "Shape of the data set after transforming :  (12132, 44) \n",
      "\n",
      "Shape of the dataset before transformation :  (12132, 44)\n",
      "Ignoring the columns.... []\n",
      "Performing column transformations for : ['rent', 'cemetery_dist_miles', 'nationalhighway_miles', 'railline_miles', 'starbucks_miles', 'walmart_miles', 'hospital_miles', 'physician_dist_miles', 'dentist_dist_miles', 'opt_dist_miles', 'vet_dist_miles', 'farmers_miles', 'bed', 'bath', 'halfbath', 'sqft', 'garage', 'yearbuilt', 'pool', 'fireplace', 'patio', 'lotsize', 'Census_MedianIncome', 'CollegeGrads', 'WhiteCollar', 'Schools', 'Unemployment', 'EmploymentDiversity', 'Census_Vacancy', 'Crime_Rate', 'HomePrice', 'x', 'y', 'z', 2015.25, 2015.5, 2015.75, 2016.25, 'Condo', 'Duplex', 'NA', 'Quadplex', 'SFR', 'Triplex']\n",
      "\n",
      "Shape of the data set before min max scaling :  (12132, 44)\n",
      "\n",
      "Shape of the data set post min max scaling :  (12132, 44)\n",
      "Shape of the dataset after transformation :  (12132, 44)\n",
      "Input data set shape :  (12132, 44)\n",
      "\n",
      "feature_columns :  ['SFR', 'farmers_miles', 'Condo', 'fireplace', 'nationalhighway_miles', 'railline_miles', 'dentist_dist_miles', 'Triplex', 'bath', 'Quadplex', 'Census_MedianIncome', 'EmploymentDiversity', 'z', 'NA', 'vet_dist_miles', 'patio', 'bed', 'Unemployment', 'Duplex', 'HomePrice', 'garage', 'CollegeGrads', 'cemetery_dist_miles', 'yearbuilt', 'Schools', 'Census_Vacancy', 'opt_dist_miles', 'walmart_miles', 'pool', 2015.25, 2015.5, 2015.75, 2016.25, 'hospital_miles', 'sqft', 'Crime_Rate', 'starbucks_miles', 'halfbath', 'y', 'physician_dist_miles', 'x', 'WhiteCollar', 'lotsize']\n",
      "lable_column :  rent\n"
     ]
    },
    {
     "data": {
      "image/png": "[encoded data removed]",
      "text/plain": [
       "<Figure size 432x288 with 1 Axes>"
      ]
     },
     "metadata": {},
     "output_type": "display_data"
    },
    {
     "name": "stdout",
     "output_type": "stream",
     "text": [
      "\n",
      "Shape of the data set before min max scaling :  (12132, 44)\n",
      "\n",
      "Shape of the data set post min max scaling :  (12132, 44)\n"
     ]
    },
    {
     "data": {
      "image/png": "[encoded data removed]",
      "text/plain": [
       "<Figure size 432x288 with 1 Axes>"
      ]
     },
     "metadata": {},
     "output_type": "display_data"
    },
    {
     "name": "stdout",
     "output_type": "stream",
     "text": [
      "\n",
      "Train feature shape:  (12132, 43) (12132,)\n",
      "Test feature shape:  (0, 43) (0,)\n"
     ]
    }
   ],
   "source": [
    "X,y,dummy_X,dummy_y = returnTrainTestSet(\n",
    "                                boxCoxTranformation(preProcessTheData(readTheData('TestData_PA.csv'))),\n",
    "                                .99999,\n",
    "                                1986)"
   ]
  },
  {
   "cell_type": "code",
   "execution_count": 4,
   "metadata": {},
   "outputs": [
    {
     "name": "stdout",
     "output_type": "stream",
     "text": [
      "Initial df size (18203, 40)\n",
      "Duplicates size (60, 40)\n",
      "NaN columns : ['county', 'zipcode', 'address', 'property_type']\n",
      "NaN columns (post fillna): []\n",
      "Duplicates size (post fillna) (60, 40)\n",
      "Duplicates without considering *time* feature :  (123, 40)\n",
      "Post duplicates removal data set size :  (18080, 40)\n",
      "\n",
      "Shape of the data set before to outlier removal :  (18080, 40)\n",
      "Shape of the data set after outlier removal :  (18079, 40)\n",
      "\n",
      "Shape of the data set before transforming :  (18079, 40)\n",
      "Shape of the data set after transforming :  (18079, 44) \n",
      "\n",
      "Shape of the dataset before transformation :  (18079, 44)\n",
      "Ignoring the columns.... []\n",
      "Performing column transformations for : ['rent', 'cemetery_dist_miles', 'nationalhighway_miles', 'railline_miles', 'starbucks_miles', 'walmart_miles', 'hospital_miles', 'physician_dist_miles', 'dentist_dist_miles', 'opt_dist_miles', 'vet_dist_miles', 'farmers_miles', 'bed', 'bath', 'halfbath', 'sqft', 'garage', 'yearbuilt', 'pool', 'fireplace', 'patio', 'lotsize', 'Census_MedianIncome', 'CollegeGrads', 'WhiteCollar', 'Schools', 'Unemployment', 'EmploymentDiversity', 'Census_Vacancy', 'Crime_Rate', 'HomePrice', 'x', 'y', 'z', 2015.25, 2015.5, 2015.75, 2016.25, 'Condo', 'Duplex', 'NA', 'Quadplex', 'SFR', 'Triplex']\n",
      "\n",
      "Shape of the data set before min max scaling :  (18079, 44)\n",
      "\n",
      "Shape of the data set post min max scaling :  (18079, 44)\n",
      "Shape of the dataset after transformation :  (18079, 44)\n",
      "Input data set shape :  (18079, 44)\n",
      "\n",
      "feature_columns :  ['SFR', 'farmers_miles', 'Condo', 'fireplace', 'nationalhighway_miles', 'railline_miles', 'dentist_dist_miles', 'Triplex', 'bath', 'Quadplex', 'Census_MedianIncome', 'EmploymentDiversity', 'z', 'NA', 'vet_dist_miles', 'patio', 'bed', 'Unemployment', 'Duplex', 'HomePrice', 'garage', 'CollegeGrads', 'cemetery_dist_miles', 'yearbuilt', 'Schools', 'Census_Vacancy', 'opt_dist_miles', 'walmart_miles', 'pool', 2015.25, 2015.5, 2015.75, 2016.25, 'hospital_miles', 'sqft', 'Crime_Rate', 'starbucks_miles', 'halfbath', 'y', 'physician_dist_miles', 'x', 'WhiteCollar', 'lotsize']\n",
      "lable_column :  rent\n"
     ]
    },
    {
     "data": {
      "image/png": "[encoded data removed]",
      "text/plain": [
       "<Figure size 432x288 with 1 Axes>"
      ]
     },
     "metadata": {},
     "output_type": "display_data"
    },
    {
     "name": "stdout",
     "output_type": "stream",
     "text": [
      "\n",
      "Shape of the data set before min max scaling :  (18079, 44)\n",
      "\n",
      "Shape of the data set post min max scaling :  (18079, 44)\n"
     ]
    },
    {
     "data": {
      "image/png": "[encoded data removed]",
      "text/plain": [
       "<Figure size 432x288 with 1 Axes>"
      ]
     },
     "metadata": {},
     "output_type": "display_data"
    },
    {
     "name": "stdout",
     "output_type": "stream",
     "text": [
      "\n",
      "Train feature shape:  (16271, 43) (16271,)\n",
      "Test feature shape:  (1808, 43) (1808,)\n",
      "SGDRegressor(alpha=0.0001, average=False, epsilon=0.1, eta0=0.01,\n",
      "       fit_intercept=True, l1_ratio=0.15, learning_rate='invscaling',\n",
      "       loss='squared_loss', max_iter=None, n_iter=None, penalty='l2',\n",
      "       power_t=0.25, random_state=None, shuffle=True, tol=None, verbose=0,\n",
      "       warm_start=False) 0.7268521435642801\n"
     ]
    },
    {
     "name": "stderr",
     "output_type": "stream",
     "text": [
      "C:\\Users\\padmaraj.bhat\\AppData\\Local\\Continuum\\anaconda3\\lib\\site-packages\\sklearn\\linear_model\\stochastic_gradient.py:128: FutureWarning: max_iter and tol parameters have been added in <class 'sklearn.linear_model.stochastic_gradient.SGDRegressor'> in 0.19. If both are left unset, they default to max_iter=5 and tol=None. If tol is not None, max_iter defaults to max_iter=1000. From 0.21, default max_iter will be 1000, and default tol will be 1e-3.\n",
      "  \"and default tol will be 1e-3.\" % type(self), FutureWarning)\n"
     ]
    },
    {
     "name": "stdout",
     "output_type": "stream",
     "text": [
      "LassoCV(alphas=None, copy_X=True, cv=None, eps=0.001, fit_intercept=True,\n",
      "    max_iter=1000, n_alphas=100, n_jobs=1, normalize=False, positive=False,\n",
      "    precompute='auto', random_state=None, selection='cyclic', tol=0.0001,\n",
      "    verbose=False) 0.7340626765537187\n",
      "ElasticNetCV(alphas=None, copy_X=True, cv=None, eps=0.001, fit_intercept=True,\n",
      "       l1_ratio=0.5, max_iter=1000, n_alphas=100, n_jobs=1,\n",
      "       normalize=False, positive=False, precompute='auto',\n",
      "       random_state=None, selection='cyclic', tol=0.0001, verbose=0) 0.7340482680825926\n",
      "RidgeCV(alphas=(0.1, 1.0, 10.0), cv=None, fit_intercept=True, gcv_mode=None,\n",
      "    normalize=False, scoring=None, store_cv_values=False) 0.7339097783657135\n",
      "AdaBoostRegressor(base_estimator=None, learning_rate=1.0, loss='linear',\n",
      "         n_estimators=50, random_state=None) 0.6588690850773788\n",
      "GradientBoostingRegressor(alpha=0.9, criterion='friedman_mse', init=None,\n",
      "             learning_rate=0.1, loss='ls', max_depth=3, max_features=None,\n",
      "             max_leaf_nodes=None, min_impurity_decrease=0.0,\n",
      "             min_impurity_split=None, min_samples_leaf=1,\n",
      "             min_samples_split=2, min_weight_fraction_leaf=0.0,\n",
      "             n_estimators=100, presort='auto', random_state=None,\n",
      "             subsample=1.0, verbose=0, warm_start=False) 0.7877045929235225\n",
      "XGBRegressor(base_score=0.5, booster='gbtree', colsample_bylevel=1,\n",
      "       colsample_bytree=1, gamma=0, learning_rate=0.1, max_delta_step=0,\n",
      "       max_depth=3, min_child_weight=1, missing=None, n_estimators=100,\n",
      "       n_jobs=1, nthread=None, objective='reg:linear', random_state=0,\n",
      "       reg_alpha=0, reg_lambda=1, scale_pos_weight=1, seed=None,\n",
      "       silent=True, subsample=1) 0.7881921901944084\n",
      "Initial df size (18203, 40)\n",
      "Duplicates size (60, 40)\n",
      "NaN columns : ['county', 'zipcode', 'address', 'property_type']\n",
      "NaN columns (post fillna): []\n",
      "Duplicates size (post fillna) (60, 40)\n",
      "Duplicates without considering *time* feature :  (123, 40)\n",
      "Post duplicates removal data set size :  (18080, 40)\n",
      "\n",
      "Shape of the data set before to outlier removal :  (18080, 40)\n",
      "Shape of the data set after outlier removal :  (18079, 40)\n",
      "\n",
      "Shape of the data set before transforming :  (18079, 40)\n",
      "Shape of the data set after transforming :  (18079, 44) \n",
      "\n",
      "Shape of the dataset before transformation :  (18079, 44)\n",
      "Ignoring the columns.... []\n",
      "Performing column transformations for : ['rent', 'cemetery_dist_miles', 'nationalhighway_miles', 'railline_miles', 'starbucks_miles', 'walmart_miles', 'hospital_miles', 'physician_dist_miles', 'dentist_dist_miles', 'opt_dist_miles', 'vet_dist_miles', 'farmers_miles', 'bed', 'bath', 'halfbath', 'sqft', 'garage', 'yearbuilt', 'pool', 'fireplace', 'patio', 'lotsize', 'Census_MedianIncome', 'CollegeGrads', 'WhiteCollar', 'Schools', 'Unemployment', 'EmploymentDiversity', 'Census_Vacancy', 'Crime_Rate', 'HomePrice', 'x', 'y', 'z', 2015.25, 2015.5, 2015.75, 2016.25, 'Condo', 'Duplex', 'NA', 'Quadplex', 'SFR', 'Triplex']\n",
      "\n",
      "Shape of the data set before min max scaling :  (18079, 44)\n",
      "\n",
      "Shape of the data set post min max scaling :  (18079, 44)\n",
      "Shape of the dataset after transformation :  (18079, 44)\n",
      "Input data set shape :  (18079, 44)\n",
      "\n",
      "feature_columns :  ['SFR', 'farmers_miles', 'Condo', 'fireplace', 'nationalhighway_miles', 'railline_miles', 'dentist_dist_miles', 'Triplex', 'bath', 'Quadplex', 'Census_MedianIncome', 'EmploymentDiversity', 'z', 'NA', 'vet_dist_miles', 'patio', 'bed', 'Unemployment', 'Duplex', 'HomePrice', 'garage', 'CollegeGrads', 'cemetery_dist_miles', 'yearbuilt', 'Schools', 'Census_Vacancy', 'opt_dist_miles', 'walmart_miles', 'pool', 2015.25, 2015.5, 2015.75, 2016.25, 'hospital_miles', 'sqft', 'Crime_Rate', 'starbucks_miles', 'halfbath', 'y', 'physician_dist_miles', 'x', 'WhiteCollar', 'lotsize']\n",
      "lable_column :  rent\n"
     ]
    },
    {
     "data": {
      "image/png": "[encoded data removed]",
      "text/plain": [
       "<Figure size 432x288 with 1 Axes>"
      ]
     },
     "metadata": {},
     "output_type": "display_data"
    },
    {
     "name": "stdout",
     "output_type": "stream",
     "text": [
      "\n",
      "Shape of the data set before min max scaling :  (18079, 44)\n",
      "\n",
      "Shape of the data set post min max scaling :  (18079, 44)\n"
     ]
    },
    {
     "data": {
      "image/png": "[encoded data removed]",
      "text/plain": [
       "<Figure size 432x288 with 1 Axes>"
      ]
     },
     "metadata": {},
     "output_type": "display_data"
    },
    {
     "name": "stdout",
     "output_type": "stream",
     "text": [
      "\n",
      "Train feature shape:  (14463, 43) (14463,)\n",
      "Test feature shape:  (3616, 43) (3616,)\n",
      "SGDRegressor(alpha=0.0001, average=False, epsilon=0.1, eta0=0.01,\n",
      "       fit_intercept=True, l1_ratio=0.15, learning_rate='invscaling',\n",
      "       loss='squared_loss', max_iter=None, n_iter=None, penalty='l2',\n",
      "       power_t=0.25, random_state=None, shuffle=True, tol=None, verbose=0,\n",
      "       warm_start=False) 0.7267006805533355\n"
     ]
    },
    {
     "name": "stderr",
     "output_type": "stream",
     "text": [
      "C:\\Users\\padmaraj.bhat\\AppData\\Local\\Continuum\\anaconda3\\lib\\site-packages\\sklearn\\linear_model\\stochastic_gradient.py:128: FutureWarning: max_iter and tol parameters have been added in <class 'sklearn.linear_model.stochastic_gradient.SGDRegressor'> in 0.19. If both are left unset, they default to max_iter=5 and tol=None. If tol is not None, max_iter defaults to max_iter=1000. From 0.21, default max_iter will be 1000, and default tol will be 1e-3.\n",
      "  \"and default tol will be 1e-3.\" % type(self), FutureWarning)\n"
     ]
    },
    {
     "name": "stdout",
     "output_type": "stream",
     "text": [
      "LassoCV(alphas=None, copy_X=True, cv=None, eps=0.001, fit_intercept=True,\n",
      "    max_iter=1000, n_alphas=100, n_jobs=1, normalize=False, positive=False,\n",
      "    precompute='auto', random_state=None, selection='cyclic', tol=0.0001,\n",
      "    verbose=False) 0.7335491920392259\n",
      "ElasticNetCV(alphas=None, copy_X=True, cv=None, eps=0.001, fit_intercept=True,\n",
      "       l1_ratio=0.5, max_iter=1000, n_alphas=100, n_jobs=1,\n",
      "       normalize=False, positive=False, precompute='auto',\n",
      "       random_state=None, selection='cyclic', tol=0.0001, verbose=0) 0.7335623854444427\n",
      "RidgeCV(alphas=(0.1, 1.0, 10.0), cv=None, fit_intercept=True, gcv_mode=None,\n",
      "    normalize=False, scoring=None, store_cv_values=False) 0.7336227990676794\n",
      "AdaBoostRegressor(base_estimator=None, learning_rate=1.0, loss='linear',\n",
      "         n_estimators=50, random_state=None) 0.6505580408225586\n",
      "GradientBoostingRegressor(alpha=0.9, criterion='friedman_mse', init=None,\n",
      "             learning_rate=0.1, loss='ls', max_depth=3, max_features=None,\n",
      "             max_leaf_nodes=None, min_impurity_decrease=0.0,\n",
      "             min_impurity_split=None, min_samples_leaf=1,\n",
      "             min_samples_split=2, min_weight_fraction_leaf=0.0,\n",
      "             n_estimators=100, presort='auto', random_state=None,\n",
      "             subsample=1.0, verbose=0, warm_start=False) 0.7844410635870105\n",
      "XGBRegressor(base_score=0.5, booster='gbtree', colsample_bylevel=1,\n",
      "       colsample_bytree=1, gamma=0, learning_rate=0.1, max_delta_step=0,\n",
      "       max_depth=3, min_child_weight=1, missing=None, n_estimators=100,\n",
      "       n_jobs=1, nthread=None, objective='reg:linear', random_state=0,\n",
      "       reg_alpha=0, reg_lambda=1, scale_pos_weight=1, seed=None,\n",
      "       silent=True, subsample=1) 0.7858561922203775\n",
      "Initial df size (18203, 40)\n",
      "Duplicates size (60, 40)\n",
      "NaN columns : ['county', 'zipcode', 'address', 'property_type']\n",
      "NaN columns (post fillna): []\n",
      "Duplicates size (post fillna) (60, 40)\n",
      "Duplicates without considering *time* feature :  (123, 40)\n",
      "Post duplicates removal data set size :  (18080, 40)\n",
      "\n",
      "Shape of the data set before to outlier removal :  (18080, 40)\n",
      "Shape of the data set after outlier removal :  (18079, 40)\n",
      "\n",
      "Shape of the data set before transforming :  (18079, 40)\n",
      "Shape of the data set after transforming :  (18079, 44) \n",
      "\n",
      "Shape of the dataset before transformation :  (18079, 44)\n",
      "Ignoring the columns.... []\n",
      "Performing column transformations for : ['rent', 'cemetery_dist_miles', 'nationalhighway_miles', 'railline_miles', 'starbucks_miles', 'walmart_miles', 'hospital_miles', 'physician_dist_miles', 'dentist_dist_miles', 'opt_dist_miles', 'vet_dist_miles', 'farmers_miles', 'bed', 'bath', 'halfbath', 'sqft', 'garage', 'yearbuilt', 'pool', 'fireplace', 'patio', 'lotsize', 'Census_MedianIncome', 'CollegeGrads', 'WhiteCollar', 'Schools', 'Unemployment', 'EmploymentDiversity', 'Census_Vacancy', 'Crime_Rate', 'HomePrice', 'x', 'y', 'z', 2015.25, 2015.5, 2015.75, 2016.25, 'Condo', 'Duplex', 'NA', 'Quadplex', 'SFR', 'Triplex']\n",
      "\n",
      "Shape of the data set before min max scaling :  (18079, 44)\n",
      "\n",
      "Shape of the data set post min max scaling :  (18079, 44)\n",
      "Shape of the dataset after transformation :  (18079, 44)\n",
      "Input data set shape :  (18079, 44)\n",
      "\n",
      "feature_columns :  ['SFR', 'farmers_miles', 'Condo', 'fireplace', 'nationalhighway_miles', 'railline_miles', 'dentist_dist_miles', 'Triplex', 'bath', 'Quadplex', 'Census_MedianIncome', 'EmploymentDiversity', 'z', 'NA', 'vet_dist_miles', 'patio', 'bed', 'Unemployment', 'Duplex', 'HomePrice', 'garage', 'CollegeGrads', 'cemetery_dist_miles', 'yearbuilt', 'Schools', 'Census_Vacancy', 'opt_dist_miles', 'walmart_miles', 'pool', 2015.25, 2015.5, 2015.75, 2016.25, 'hospital_miles', 'sqft', 'Crime_Rate', 'starbucks_miles', 'halfbath', 'y', 'physician_dist_miles', 'x', 'WhiteCollar', 'lotsize']\n",
      "lable_column :  rent\n"
     ]
    },
    {
     "data": {
      "image/png": "[encoded data removed]",
      "text/plain": [
       "<Figure size 432x288 with 1 Axes>"
      ]
     },
     "metadata": {},
     "output_type": "display_data"
    },
    {
     "name": "stdout",
     "output_type": "stream",
     "text": [
      "\n",
      "Shape of the data set before min max scaling :  (18079, 44)\n",
      "\n",
      "Shape of the data set post min max scaling :  (18079, 44)\n"
     ]
    },
    {
     "data": {
      "image/png": "[encoded data removed]",
      "text/plain": [
       "<Figure size 432x288 with 1 Axes>"
      ]
     },
     "metadata": {},
     "output_type": "display_data"
    },
    {
     "name": "stdout",
     "output_type": "stream",
     "text": [
      "\n",
      "Train feature shape:  (16271, 43) (16271,)\n",
      "Test feature shape:  (1808, 43) (1808,)\n",
      "SGDRegressor(alpha=0.0001, average=False, epsilon=0.1, eta0=0.01,\n",
      "       fit_intercept=True, l1_ratio=0.15, learning_rate='invscaling',\n",
      "       loss='squared_loss', max_iter=None, n_iter=None, penalty='l2',\n",
      "       power_t=0.25, random_state=None, shuffle=True, tol=None, verbose=0,\n",
      "       warm_start=False) 0.7201840137114064\n"
     ]
    },
    {
     "name": "stderr",
     "output_type": "stream",
     "text": [
      "C:\\Users\\padmaraj.bhat\\AppData\\Local\\Continuum\\anaconda3\\lib\\site-packages\\sklearn\\linear_model\\stochastic_gradient.py:128: FutureWarning: max_iter and tol parameters have been added in <class 'sklearn.linear_model.stochastic_gradient.SGDRegressor'> in 0.19. If both are left unset, they default to max_iter=5 and tol=None. If tol is not None, max_iter defaults to max_iter=1000. From 0.21, default max_iter will be 1000, and default tol will be 1e-3.\n",
      "  \"and default tol will be 1e-3.\" % type(self), FutureWarning)\n"
     ]
    },
    {
     "name": "stdout",
     "output_type": "stream",
     "text": [
      "LassoCV(alphas=None, copy_X=True, cv=None, eps=0.001, fit_intercept=True,\n",
      "    max_iter=1000, n_alphas=100, n_jobs=1, normalize=False, positive=False,\n",
      "    precompute='auto', random_state=None, selection='cyclic', tol=0.0001,\n",
      "    verbose=False) 0.7301400073309194\n",
      "ElasticNetCV(alphas=None, copy_X=True, cv=None, eps=0.001, fit_intercept=True,\n",
      "       l1_ratio=0.5, max_iter=1000, n_alphas=100, n_jobs=1,\n",
      "       normalize=False, positive=False, precompute='auto',\n",
      "       random_state=None, selection='cyclic', tol=0.0001, verbose=0) 0.730188589846444\n",
      "RidgeCV(alphas=(0.1, 1.0, 10.0), cv=None, fit_intercept=True, gcv_mode=None,\n",
      "    normalize=False, scoring=None, store_cv_values=False) 0.7300453710981055\n",
      "AdaBoostRegressor(base_estimator=None, learning_rate=1.0, loss='linear',\n",
      "         n_estimators=50, random_state=None) 0.6404991089032214\n",
      "GradientBoostingRegressor(alpha=0.9, criterion='friedman_mse', init=None,\n",
      "             learning_rate=0.1, loss='ls', max_depth=3, max_features=None,\n",
      "             max_leaf_nodes=None, min_impurity_decrease=0.0,\n",
      "             min_impurity_split=None, min_samples_leaf=1,\n",
      "             min_samples_split=2, min_weight_fraction_leaf=0.0,\n",
      "             n_estimators=100, presort='auto', random_state=None,\n",
      "             subsample=1.0, verbose=0, warm_start=False) 0.795018488776761\n",
      "XGBRegressor(base_score=0.5, booster='gbtree', colsample_bylevel=1,\n",
      "       colsample_bytree=1, gamma=0, learning_rate=0.1, max_delta_step=0,\n",
      "       max_depth=3, min_child_weight=1, missing=None, n_estimators=100,\n",
      "       n_jobs=1, nthread=None, objective='reg:linear', random_state=0,\n",
      "       reg_alpha=0, reg_lambda=1, scale_pos_weight=1, seed=None,\n",
      "       silent=True, subsample=1) 0.794841954217968\n",
      "Initial df size (18203, 40)\n",
      "Duplicates size (60, 40)\n",
      "NaN columns : ['county', 'zipcode', 'address', 'property_type']\n",
      "NaN columns (post fillna): []\n",
      "Duplicates size (post fillna) (60, 40)\n",
      "Duplicates without considering *time* feature :  (123, 40)\n",
      "Post duplicates removal data set size :  (18080, 40)\n",
      "\n",
      "Shape of the data set before to outlier removal :  (18080, 40)\n",
      "Shape of the data set after outlier removal :  (18079, 40)\n",
      "\n",
      "Shape of the data set before transforming :  (18079, 40)\n",
      "Shape of the data set after transforming :  (18079, 44) \n",
      "\n",
      "Shape of the dataset before transformation :  (18079, 44)\n",
      "Ignoring the columns.... []\n",
      "Performing column transformations for : ['rent', 'cemetery_dist_miles', 'nationalhighway_miles', 'railline_miles', 'starbucks_miles', 'walmart_miles', 'hospital_miles', 'physician_dist_miles', 'dentist_dist_miles', 'opt_dist_miles', 'vet_dist_miles', 'farmers_miles', 'bed', 'bath', 'halfbath', 'sqft', 'garage', 'yearbuilt', 'pool', 'fireplace', 'patio', 'lotsize', 'Census_MedianIncome', 'CollegeGrads', 'WhiteCollar', 'Schools', 'Unemployment', 'EmploymentDiversity', 'Census_Vacancy', 'Crime_Rate', 'HomePrice', 'x', 'y', 'z', 2015.25, 2015.5, 2015.75, 2016.25, 'Condo', 'Duplex', 'NA', 'Quadplex', 'SFR', 'Triplex']\n",
      "\n",
      "Shape of the data set before min max scaling :  (18079, 44)\n",
      "\n",
      "Shape of the data set post min max scaling :  (18079, 44)\n",
      "Shape of the dataset after transformation :  (18079, 44)\n",
      "Input data set shape :  (18079, 44)\n",
      "\n",
      "feature_columns :  ['SFR', 'farmers_miles', 'Condo', 'fireplace', 'nationalhighway_miles', 'railline_miles', 'dentist_dist_miles', 'Triplex', 'bath', 'Quadplex', 'Census_MedianIncome', 'EmploymentDiversity', 'z', 'NA', 'vet_dist_miles', 'patio', 'bed', 'Unemployment', 'Duplex', 'HomePrice', 'garage', 'CollegeGrads', 'cemetery_dist_miles', 'yearbuilt', 'Schools', 'Census_Vacancy', 'opt_dist_miles', 'walmart_miles', 'pool', 2015.25, 2015.5, 2015.75, 2016.25, 'hospital_miles', 'sqft', 'Crime_Rate', 'starbucks_miles', 'halfbath', 'y', 'physician_dist_miles', 'x', 'WhiteCollar', 'lotsize']\n",
      "lable_column :  rent\n"
     ]
    },
    {
     "data": {
      "image/png": "[encoded data removed]",
      "text/plain": [
       "<Figure size 432x288 with 1 Axes>"
      ]
     },
     "metadata": {},
     "output_type": "display_data"
    },
    {
     "name": "stdout",
     "output_type": "stream",
     "text": [
      "\n",
      "Shape of the data set before min max scaling :  (18079, 44)\n",
      "\n",
      "Shape of the data set post min max scaling :  (18079, 44)\n"
     ]
    },
    {
     "data": {
      "image/png": "[encoded data removed]",
      "text/plain": [
       "<Figure size 432x288 with 1 Axes>"
      ]
     },
     "metadata": {},
     "output_type": "display_data"
    },
    {
     "name": "stdout",
     "output_type": "stream",
     "text": [
      "\n",
      "Train feature shape:  (16271, 43) (16271,)\n",
      "Test feature shape:  (1808, 43) (1808,)\n",
      "SGDRegressor(alpha=0.0001, average=False, epsilon=0.1, eta0=0.01,\n",
      "       fit_intercept=True, l1_ratio=0.15, learning_rate='invscaling',\n",
      "       loss='squared_loss', max_iter=None, n_iter=None, penalty='l2',\n",
      "       power_t=0.25, random_state=None, shuffle=True, tol=None, verbose=0,\n",
      "       warm_start=False) 0.7195935723610324\n"
     ]
    },
    {
     "name": "stderr",
     "output_type": "stream",
     "text": [
      "C:\\Users\\padmaraj.bhat\\AppData\\Local\\Continuum\\anaconda3\\lib\\site-packages\\sklearn\\linear_model\\stochastic_gradient.py:128: FutureWarning: max_iter and tol parameters have been added in <class 'sklearn.linear_model.stochastic_gradient.SGDRegressor'> in 0.19. If both are left unset, they default to max_iter=5 and tol=None. If tol is not None, max_iter defaults to max_iter=1000. From 0.21, default max_iter will be 1000, and default tol will be 1e-3.\n",
      "  \"and default tol will be 1e-3.\" % type(self), FutureWarning)\n"
     ]
    },
    {
     "name": "stdout",
     "output_type": "stream",
     "text": [
      "LassoCV(alphas=None, copy_X=True, cv=None, eps=0.001, fit_intercept=True,\n",
      "    max_iter=1000, n_alphas=100, n_jobs=1, normalize=False, positive=False,\n",
      "    precompute='auto', random_state=None, selection='cyclic', tol=0.0001,\n",
      "    verbose=False) 0.7214830899537974\n",
      "ElasticNetCV(alphas=None, copy_X=True, cv=None, eps=0.001, fit_intercept=True,\n",
      "       l1_ratio=0.5, max_iter=1000, n_alphas=100, n_jobs=1,\n",
      "       normalize=False, positive=False, precompute='auto',\n",
      "       random_state=None, selection='cyclic', tol=0.0001, verbose=0) 0.7215210865261814\n",
      "RidgeCV(alphas=(0.1, 1.0, 10.0), cv=None, fit_intercept=True, gcv_mode=None,\n",
      "    normalize=False, scoring=None, store_cv_values=False) 0.7214314437198499\n",
      "AdaBoostRegressor(base_estimator=None, learning_rate=1.0, loss='linear',\n",
      "         n_estimators=50, random_state=None) 0.6463466133184455\n",
      "GradientBoostingRegressor(alpha=0.9, criterion='friedman_mse', init=None,\n",
      "             learning_rate=0.1, loss='ls', max_depth=3, max_features=None,\n",
      "             max_leaf_nodes=None, min_impurity_decrease=0.0,\n",
      "             min_impurity_split=None, min_samples_leaf=1,\n",
      "             min_samples_split=2, min_weight_fraction_leaf=0.0,\n",
      "             n_estimators=100, presort='auto', random_state=None,\n",
      "             subsample=1.0, verbose=0, warm_start=False) 0.7766578875508401\n",
      "XGBRegressor(base_score=0.5, booster='gbtree', colsample_bylevel=1,\n",
      "       colsample_bytree=1, gamma=0, learning_rate=0.1, max_delta_step=0,\n",
      "       max_depth=3, min_child_weight=1, missing=None, n_estimators=100,\n",
      "       n_jobs=1, nthread=None, objective='reg:linear', random_state=0,\n",
      "       reg_alpha=0, reg_lambda=1, scale_pos_weight=1, seed=None,\n",
      "       silent=True, subsample=1) 0.7774364733612729\n",
      "Initial df size (18203, 40)\n",
      "Duplicates size (60, 40)\n",
      "NaN columns : ['county', 'zipcode', 'address', 'property_type']\n",
      "NaN columns (post fillna): []\n",
      "Duplicates size (post fillna) (60, 40)\n",
      "Duplicates without considering *time* feature :  (123, 40)\n",
      "Post duplicates removal data set size :  (18080, 40)\n",
      "\n",
      "Shape of the data set before to outlier removal :  (18080, 40)\n",
      "Shape of the data set after outlier removal :  (18079, 40)\n",
      "\n",
      "Shape of the data set before transforming :  (18079, 40)\n",
      "Shape of the data set after transforming :  (18079, 44) \n",
      "\n",
      "Shape of the dataset before transformation :  (18079, 44)\n",
      "Ignoring the columns.... []\n",
      "Performing column transformations for : ['rent', 'cemetery_dist_miles', 'nationalhighway_miles', 'railline_miles', 'starbucks_miles', 'walmart_miles', 'hospital_miles', 'physician_dist_miles', 'dentist_dist_miles', 'opt_dist_miles', 'vet_dist_miles', 'farmers_miles', 'bed', 'bath', 'halfbath', 'sqft', 'garage', 'yearbuilt', 'pool', 'fireplace', 'patio', 'lotsize', 'Census_MedianIncome', 'CollegeGrads', 'WhiteCollar', 'Schools', 'Unemployment', 'EmploymentDiversity', 'Census_Vacancy', 'Crime_Rate', 'HomePrice', 'x', 'y', 'z', 2015.25, 2015.5, 2015.75, 2016.25, 'Condo', 'Duplex', 'NA', 'Quadplex', 'SFR', 'Triplex']\n",
      "\n",
      "Shape of the data set before min max scaling :  (18079, 44)\n",
      "\n",
      "Shape of the data set post min max scaling :  (18079, 44)\n",
      "Shape of the dataset after transformation :  (18079, 44)\n",
      "Input data set shape :  (18079, 44)\n",
      "\n",
      "feature_columns :  ['SFR', 'farmers_miles', 'Condo', 'fireplace', 'nationalhighway_miles', 'railline_miles', 'dentist_dist_miles', 'Triplex', 'bath', 'Quadplex', 'Census_MedianIncome', 'EmploymentDiversity', 'z', 'NA', 'vet_dist_miles', 'patio', 'bed', 'Unemployment', 'Duplex', 'HomePrice', 'garage', 'CollegeGrads', 'cemetery_dist_miles', 'yearbuilt', 'Schools', 'Census_Vacancy', 'opt_dist_miles', 'walmart_miles', 'pool', 2015.25, 2015.5, 2015.75, 2016.25, 'hospital_miles', 'sqft', 'Crime_Rate', 'starbucks_miles', 'halfbath', 'y', 'physician_dist_miles', 'x', 'WhiteCollar', 'lotsize']\n",
      "lable_column :  rent\n"
     ]
    },
    {
     "data": {
      "image/png": "[encoded data removed]",
      "text/plain": [
       "<Figure size 432x288 with 1 Axes>"
      ]
     },
     "metadata": {},
     "output_type": "display_data"
    },
    {
     "name": "stdout",
     "output_type": "stream",
     "text": [
      "\n",
      "Shape of the data set before min max scaling :  (18079, 44)\n",
      "\n",
      "Shape of the data set post min max scaling :  (18079, 44)\n"
     ]
    },
    {
     "data": {
      "image/png": "[encoded data removed]",
      "text/plain": [
       "<Figure size 432x288 with 1 Axes>"
      ]
     },
     "metadata": {},
     "output_type": "display_data"
    },
    {
     "name": "stdout",
     "output_type": "stream",
     "text": [
      "\n",
      "Train feature shape:  (16271, 43) (16271,)\n",
      "Test feature shape:  (1808, 43) (1808,)\n",
      "SGDRegressor(alpha=0.0001, average=False, epsilon=0.1, eta0=0.01,\n",
      "       fit_intercept=True, l1_ratio=0.15, learning_rate='invscaling',\n",
      "       loss='squared_loss', max_iter=None, n_iter=None, penalty='l2',\n",
      "       power_t=0.25, random_state=None, shuffle=True, tol=None, verbose=0,\n",
      "       warm_start=False) 0.7021724330296754\n"
     ]
    },
    {
     "name": "stderr",
     "output_type": "stream",
     "text": [
      "C:\\Users\\padmaraj.bhat\\AppData\\Local\\Continuum\\anaconda3\\lib\\site-packages\\sklearn\\linear_model\\stochastic_gradient.py:128: FutureWarning: max_iter and tol parameters have been added in <class 'sklearn.linear_model.stochastic_gradient.SGDRegressor'> in 0.19. If both are left unset, they default to max_iter=5 and tol=None. If tol is not None, max_iter defaults to max_iter=1000. From 0.21, default max_iter will be 1000, and default tol will be 1e-3.\n",
      "  \"and default tol will be 1e-3.\" % type(self), FutureWarning)\n"
     ]
    },
    {
     "name": "stdout",
     "output_type": "stream",
     "text": [
      "LassoCV(alphas=None, copy_X=True, cv=None, eps=0.001, fit_intercept=True,\n",
      "    max_iter=1000, n_alphas=100, n_jobs=1, normalize=False, positive=False,\n",
      "    precompute='auto', random_state=None, selection='cyclic', tol=0.0001,\n",
      "    verbose=False) 0.7155978380970959\n",
      "ElasticNetCV(alphas=None, copy_X=True, cv=None, eps=0.001, fit_intercept=True,\n",
      "       l1_ratio=0.5, max_iter=1000, n_alphas=100, n_jobs=1,\n",
      "       normalize=False, positive=False, precompute='auto',\n",
      "       random_state=None, selection='cyclic', tol=0.0001, verbose=0) 0.7156075804242785\n",
      "RidgeCV(alphas=(0.1, 1.0, 10.0), cv=None, fit_intercept=True, gcv_mode=None,\n",
      "    normalize=False, scoring=None, store_cv_values=False) 0.7154257114047553\n",
      "AdaBoostRegressor(base_estimator=None, learning_rate=1.0, loss='linear',\n",
      "         n_estimators=50, random_state=None) 0.6517048105394961\n",
      "GradientBoostingRegressor(alpha=0.9, criterion='friedman_mse', init=None,\n",
      "             learning_rate=0.1, loss='ls', max_depth=3, max_features=None,\n",
      "             max_leaf_nodes=None, min_impurity_decrease=0.0,\n",
      "             min_impurity_split=None, min_samples_leaf=1,\n",
      "             min_samples_split=2, min_weight_fraction_leaf=0.0,\n",
      "             n_estimators=100, presort='auto', random_state=None,\n",
      "             subsample=1.0, verbose=0, warm_start=False) 0.7782077883031288\n",
      "XGBRegressor(base_score=0.5, booster='gbtree', colsample_bylevel=1,\n",
      "       colsample_bytree=1, gamma=0, learning_rate=0.1, max_delta_step=0,\n",
      "       max_depth=3, min_child_weight=1, missing=None, n_estimators=100,\n",
      "       n_jobs=1, nthread=None, objective='reg:linear', random_state=0,\n",
      "       reg_alpha=0, reg_lambda=1, scale_pos_weight=1, seed=None,\n",
      "       silent=True, subsample=1) 0.779635804857346\n"
     ]
    }
   ],
   "source": [
    "def experiment1():\n",
    "    X_train, y_train, X_test, y_test = returnTrainTestSet(\n",
    "            boxCoxTranformation(preProcessTheData(removeOutlier(removeDuplicate(readTheData('TrainData_PA.csv'))))),\n",
    "            random.randint(7,9)/10,\n",
    "            random.randint(1,1000))\n",
    "    clf_s = [SGDRegressor(), LassoCV(), ElasticNetCV(), RidgeCV(), \\\n",
    "         AdaBoostRegressor(), GradientBoostingRegressor(), \\\n",
    "         XGBRegressor()]#, SVR(kernel='linear')]\n",
    "\n",
    "    for c in clf_s:\n",
    "        c.fit(X_train, y_train)\n",
    "        print(c,c.score(X_test, y_test))\n",
    "    #printCorr(df)\n",
    "    #printSkewness(df)\n",
    "    return\n",
    "\n",
    "for i in [1,2,3,4,5]:\n",
    "    experiment1()"
   ]
  },
  {
   "cell_type": "markdown",
   "metadata": {},
   "source": [
    "##### It is for sure GradientBoostingRegressor vs XGBRegressor avail a high validation score."
   ]
  },
  {
   "cell_type": "code",
   "execution_count": null,
   "metadata": {},
   "outputs": [],
   "source": [
    "def experiment2():\n",
    "    df = removeOutlier(removeDuplicate(readTheData('TrainData_PA.csv')))\n",
    "    df = boxCoxTranformation(preProcessTheData((df)))\n",
    "    df=df.drop('CollegeGrads',axis=1)\n",
    "    printCorr(df)\n",
    "    #return\n",
    "    X_train, y_train, X_test, y_test = returnTrainTestSet(\n",
    "            df,\n",
    "            random.randint(7,9)/10,\n",
    "            random.randint(1,1000))\n",
    "    clf_s = [SGDRegressor(), LassoCV(), ElasticNetCV(), RidgeCV(), \\\n",
    "         AdaBoostRegressor(), GradientBoostingRegressor(), \\\n",
    "         XGBRegressor()]#, SVR(kernel='linear')]\n",
    "\n",
    "    for c in clf_s:\n",
    "        c.fit(X_train, y_train)\n",
    "        print(c,c.score(X_test, y_test))\n",
    "    #printCorr(df)\n",
    "    #printSkewness(df)\n",
    "    return\n",
    "\n",
    "for i in [1,2,3,4,5]:\n",
    "    experiment2()\n",
    "#experiment2()"
   ]
  },
  {
   "cell_type": "markdown",
   "metadata": {},
   "source": [
    "###### It is evident that co related feature removal did help to increase the score for all the regressor."
   ]
  },
  {
   "cell_type": "code",
   "execution_count": null,
   "metadata": {},
   "outputs": [],
   "source": [
    "def experiment3():\n",
    "    df = removeOutlier(removeDuplicate(readTheData('TrainData_PA.csv')))\n",
    "    df = boxCoxTranformation(preProcessTheData((df)))\n",
    "    df=df.drop(['CollegeGrads','Census_Vacancy'],axis=1)\n",
    "    printCorr(df)\n",
    "    #return\n",
    "    X_train, y_train, X_test, y_test = returnTrainTestSet(\n",
    "            df,\n",
    "            random.randint(7,9)/10,\n",
    "            random.randint(1,1000))\n",
    "    clf_s = [SGDRegressor(), LassoCV(), ElasticNetCV(), RidgeCV(), \\\n",
    "         AdaBoostRegressor(), GradientBoostingRegressor(), \\\n",
    "         XGBRegressor()]#, SVR(kernel='linear')]\n",
    "\n",
    "    for c in clf_s:\n",
    "        c.fit(X_train, y_train)\n",
    "        print(c,c.score(X_test, y_test))\n",
    "    #printCorr(df)\n",
    "    #printSkewness(df)\n",
    "    return\n",
    "\n",
    "for i in [1,2,3,4,5]:\n",
    "    experiment3()"
   ]
  },
  {
   "cell_type": "code",
   "execution_count": null,
   "metadata": {},
   "outputs": [],
   "source": [
    "#with scaling between 1,2\n",
    "def experiment4():\n",
    "    df = removeOutlier(removeDuplicate(readTheData('TrainData_PA.csv')))\n",
    "    df = boxCoxTranformation(preProcessTheData((df)))\n",
    "    df=df.drop(['CollegeGrads','Census_Vacancy'],axis=1)\n",
    "    printCorr(df)\n",
    "    #return\n",
    "    X_train, y_train, X_test, y_test = returnTrainTestSet(\n",
    "            df,\n",
    "            random.randint(7,9)/10,\n",
    "            random.randint(1,1000))\n",
    "    clf_s = [SGDRegressor(), LassoCV(), ElasticNetCV(), RidgeCV(), \\\n",
    "         AdaBoostRegressor(), GradientBoostingRegressor(), \\\n",
    "         XGBRegressor()]#, SVR(kernel='linear')]\n",
    "\n",
    "    for c in clf_s:\n",
    "        c.fit(X_train, y_train)\n",
    "        print(c,c.score(X_test, y_test))\n",
    "    #printCorr(df)\n",
    "    #printSkewness(df)\n",
    "    return\n",
    "\n",
    "for i in [1,2,3,4,5]:\n",
    "    experiment4()"
   ]
  },
  {
   "cell_type": "markdown",
   "metadata": {},
   "source": [
    "##### Scaling between 0-1 and 1-2 has no impact "
   ]
  },
  {
   "cell_type": "markdown",
   "metadata": {},
   "source": [
    "What next?\n",
    "1. rent_per_bed\n",
    "2. confirm if 2 features removal has increased the score?\n",
    "3. transforming boolean data types\n",
    "4. transforming boolean data types and shrinking feature to PCA(10)\n",
    "5. PCA(10) right away\n",
    "6. with no rent transformation with practical use of modelling in mind - rent\n",
    "7. with no rent transformation with practical use of modelling in mind - rent per bed\n",
    "8. can we have have related featues(3 categories) forming 3 features and then perform rent predictions.\n",
    "9. removing time feature: lotsize, time\n",
    "10. neural network {there would so many combination here}"
   ]
  },
  {
   "cell_type": "markdown",
   "metadata": {},
   "source": [
    "Let us re-order the above list:\n",
    "* confirm if 2 features removal has increased the score?\n",
    "* removing time feature: lotsize, time\n",
    "* with no rent transformation with practical use of modelling in mind - rent\n",
    "* rent_per_bed\n",
    "* with no rent transformation with practical use of modelling in mind - rent per bed\n",
    "* PCA(10) right away\n",
    "* transforming boolean data types\n",
    "* transforming boolean data types and shrinking feature to PCA(10)\n",
    "* can we have have related featues(3 categories) forming 3 features and then perform rent predictions.\n",
    "* neural network {there would so many combination here}"
   ]
  }
 ],
 "metadata": {
  "kernelspec": {
   "display_name": "Python 3",
   "language": "python",
   "name": "python3"
  },
  "language_info": {
   "codemirror_mode": {
    "name": "ipython",
    "version": 3
   },
   "file_extension": ".py",
   "mimetype": "text/x-python",
   "name": "python",
   "nbconvert_exporter": "python",
   "pygments_lexer": "ipython3",
   "version": "3.6.5"
  }
 },
 "nbformat": 4,
 "nbformat_minor": 2
}
